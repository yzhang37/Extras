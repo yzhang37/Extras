{
 "cells": [
  {
   "cell_type": "code",
   "execution_count": 1,
   "id": "85efe3f8-61ac-480f-9e13-1682bfca93b5",
   "metadata": {},
   "outputs": [],
   "source": [
    "import pandas as pd"
   ]
  },
  {
   "cell_type": "code",
   "execution_count": 2,
   "id": "6d6a1bfd-2aa7-4d2c-8169-305fedd6fb52",
   "metadata": {},
   "outputs": [],
   "source": [
    "data = pd.read_csv('data.csv')"
   ]
  },
  {
   "cell_type": "code",
   "execution_count": 5,
   "id": "d97bd138-5067-40d0-8261-dd19c610f5c1",
   "metadata": {},
   "outputs": [],
   "source": [
    "offense = data['Offense Description']"
   ]
  },
  {
   "cell_type": "code",
   "execution_count": 9,
   "id": "b3576e90-7703-4338-b253-b8d97461d928",
   "metadata": {},
   "outputs": [
    {
     "data": {
      "text/plain": [
       "{'ALCOHOL IN MV, POSSESS OPEN CONTAINER OF * c90 §24I',\n",
       " 'BRAKES VIOLATION, MV * c90 §7',\n",
       " 'BREAKDOWN LANE VIOLATION * c89 §4B',\n",
       " 'CHILD 8-12 OR OVER 57 INCHES WITHOUT SEAT BELT * c90 §7AA',\n",
       " 'CHILD UNDER 8 YEARS & UNDER 58 INCHES WITHOUT CARSEAT * c90 §7AA',\n",
       " 'CROSSWALK VIOLATION * c89 §11',\n",
       " 'ELECTRONIC DEVICE, USE WHILE OPERATING MV, 1ST OFFENSE* c90 §13B',\n",
       " 'ELECTRONIC DEVICE, USE WHILE OPERATING MV, 2ND OFFENSE* c90 §13B',\n",
       " 'ELECTRONIC DEVICE, USE WHILE OPERATING MV, 3RD OR SUBSQ OFFENSE* c90 §13B',\n",
       " 'EMERGENCY VEHICLE, OBSTRUCT * c89 §7A',\n",
       " 'EMERGENCY VEHICLE, OBSTRUCT STATIONARY * c89 §7C',\n",
       " 'EQUIPMENT VIOLATION, MISCELLANEOUS MV * c90 §7',\n",
       " 'HEADLIGHTS, FAIL DIM * 540 CMR §22.05(2)',\n",
       " 'INSPECTION/STICKER, NO * c90 §20',\n",
       " 'LEAVE SCENE OF PERSONAL INJURY c90 §24(2)(a½)(1)',\n",
       " 'LEAVE SCENE OF PROPERTY DAMAGE c90 §24(2)(a)',\n",
       " 'LICENSE NOT IN POSSESSION * c90 §11',\n",
       " 'LICENSE REVOKED AS HTO, OPERATE MV WITH c90 §23',\n",
       " 'LICENSE SUSPENDED, OP MV WITH (CRIMINAL SUBSQ.OFF.) c90 §23',\n",
       " 'LICENSE SUSPENDED, OP MV WITH c90 §23',\n",
       " 'LIGHTS VIOLATION * c85 §15',\n",
       " 'LIGHTS VIOLATION, MV * c90 §7',\n",
       " 'LOAD UNSECURED/UNCOVERED * c85 §36',\n",
       " 'MARKED LANES VIOLATION * c89 §4A',\n",
       " 'MOBILE PHONE, OPERATOR USE IMPROPERLY * c90 §13',\n",
       " 'MOPED OPERATION BY UNLIC -17 c90 §1B',\n",
       " 'MOPED VIOLATION * c90 §1B',\n",
       " 'MOTOR CARRIER SAFETY VIOLATION 540 CMR §14.03',\n",
       " 'MOTORCYCLE EQUIPMENT VIOLATION * c90 §7',\n",
       " 'NAME/ADDRESS CHANGE, FL NOTIFY RMV OF * c90 §26A',\n",
       " 'NEGLIGENT OPERATION OF MOTOR VEHICLE c90 §24(2)(a)',\n",
       " 'NUMBER PLATE MISSING * c90 §9',\n",
       " 'NUMBER PLATE VIOLATION * c90 §6',\n",
       " 'NUMBER PLATE VIOLATION TO CONCEAL ID c90 §23',\n",
       " 'OPERATION OF MOTOR VEHICLE, IMPROPER * c90 §16',\n",
       " 'OUI-LIQUOR OR .08% c90 §24(1)(a)(1)',\n",
       " 'OUI-LIQUOR OR .08%, 2ND OFFENSE c90 §24(1)(a)(1)',\n",
       " 'PASSING VIOLATION * c89 §2',\n",
       " 'REGISTER MV IMPROPERLY TO AVOID TAXES/PREMIUMS * c90 §3½(c)(¶2)',\n",
       " 'REGISTRATION NOT IN POSSESSION * c90 §11',\n",
       " 'REGISTRATION STICKER MISSING * 540 CMR §2.05(6)(a)',\n",
       " 'REGISTRATION SUSPENDED, OP MV WITH c90 §23',\n",
       " 'SAFETY GLASS VIOLATION * c90 §9A',\n",
       " 'SEAT BELT, FAIL WEAR * c90 §13A',\n",
       " 'SIGNAL, FAIL TO * c90 §14B',\n",
       " 'SLOW, FAIL TO * c90 §14',\n",
       " 'SPEEDING IN CONSTRUCTION ZONE * c90 §17',\n",
       " 'SPEEDING IN VIOL SPECIAL REGULATION * c90 §18',\n",
       " 'SPEEDING RATE OF SPEED EXCEEDING POSTED LIMIT  c90 §17',\n",
       " 'SPEEDING RATE OF SPEED GREATER THAN WAS REASONABLE AND PROPER  c90 §17',\n",
       " 'STATE HWAY-TRAFFIC VIOLATION * 720 CMR §9.06',\n",
       " 'STOP FOR POLICE, FAIL c90 §25',\n",
       " 'STOP/YIELD, FAIL TO * c89 §9',\n",
       " 'STUDENT MOTOR VEH REGISTRATION VIOL * c90 §3',\n",
       " 'TRESPASS WITH MOTOR VEHICLE * c266 §121A',\n",
       " 'UNINSURED MOTOR VEHICLE c90 §34J',\n",
       " 'UNLICENSED OPERATION OF MV c90 §10',\n",
       " 'UNLICENSED OPERATOR, EMPLOY * c90 §12(a)',\n",
       " 'UNLICENSED/SUSPENDED OPERATION OF MV, PERMIT c90 §12(b)',\n",
       " 'UNREGISTERED MOTOR VEHICLE * c90 §9',\n",
       " 'UNSAFE OPERATION OF MV * c90 §13',\n",
       " 'WINDOW OBSTRUCTED/NONTRANSPARENT * c90 §9D',\n",
       " 'YIELD AT INTERSECTION, FAIL * c89 §8'}"
      ]
     },
     "execution_count": 9,
     "metadata": {},
     "output_type": "execute_result"
    }
   ],
   "source": [
    "set(offense)"
   ]
  },
  {
   "cell_type": "code",
   "execution_count": null,
   "id": "fdd6f6cd-8dfe-4386-84c2-611a61ad38f8",
   "metadata": {},
   "outputs": [],
   "source": []
  }
 ],
 "metadata": {
  "kernelspec": {
   "display_name": "Python 3 (ipykernel)",
   "language": "python",
   "name": "python3"
  },
  "language_info": {
   "codemirror_mode": {
    "name": "ipython",
    "version": 3
   },
   "file_extension": ".py",
   "mimetype": "text/x-python",
   "name": "python",
   "nbconvert_exporter": "python",
   "pygments_lexer": "ipython3",
   "version": "3.9.7"
  }
 },
 "nbformat": 4,
 "nbformat_minor": 5
}
