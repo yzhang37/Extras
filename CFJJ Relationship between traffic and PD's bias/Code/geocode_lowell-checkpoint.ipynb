{
 "cells": [
  {
   "cell_type": "code",
   "execution_count": 1,
   "metadata": {},
   "outputs": [
    {
     "name": "stdout",
     "output_type": "stream",
     "text": [
      "0                         NaN\n",
      "1                    Location\n",
      "2                BRIDGE / VFW\n",
      "3       PAWTUCKET / ARLINGTON\n",
      "4            BROADWAY / LEWIS\n",
      "                ...          \n",
      "2493                      NaN\n",
      "2494                      NaN\n",
      "2495                      NaN\n",
      "2496                      NaN\n",
      "2497                      NaN\n",
      "Name: Location, Length: 2498, dtype: object\n"
     ]
    }
   ],
   "source": [
    "import numpy as np\n",
    "import pandas as pd\n",
    "\n",
    "df = pd.read_excel (\"Location Analysis Report - April 2021.xlsx\",engine='openpyxl')\n",
    "print(df[\"Location\"])"
   ]
  },
  {
   "cell_type": "code",
   "execution_count": 2,
   "metadata": {},
   "outputs": [
    {
     "ename": "GeocoderQueryError",
     "evalue": "Your request was denied.",
     "output_type": "error",
     "traceback": [
      "\u001b[1;31m---------------------------------------------------------------------------\u001b[0m",
      "\u001b[1;31mGeocoderQueryError\u001b[0m                        Traceback (most recent call last)",
      "\u001b[1;32m<ipython-input-2-fc1638215b34>\u001b[0m in \u001b[0;36m<module>\u001b[1;34m\u001b[0m\n\u001b[0;32m     11\u001b[0m \u001b[1;33m\u001b[0m\u001b[0m\n\u001b[0;32m     12\u001b[0m \u001b[1;32mfor\u001b[0m \u001b[0ml\u001b[0m \u001b[1;32min\u001b[0m \u001b[0munique\u001b[0m\u001b[1;33m:\u001b[0m\u001b[1;33m\u001b[0m\u001b[0m\n\u001b[1;32m---> 13\u001b[1;33m     \u001b[0mg_l\u001b[0m\u001b[1;33m=\u001b[0m\u001b[0mgeolocator\u001b[0m\u001b[1;33m.\u001b[0m\u001b[0mgeocode\u001b[0m\u001b[1;33m(\u001b[0m\u001b[0ml\u001b[0m\u001b[1;33m+\u001b[0m\u001b[1;34m\", Lowell, Massachusetts\"\u001b[0m\u001b[1;33m)\u001b[0m\u001b[1;33m\u001b[0m\u001b[0m\n\u001b[0m\u001b[0;32m     14\u001b[0m     \u001b[0mcomponents\u001b[0m\u001b[1;33m=\u001b[0m\u001b[0mstr\u001b[0m\u001b[1;33m(\u001b[0m\u001b[0mg_l\u001b[0m\u001b[1;33m)\u001b[0m\u001b[1;33m.\u001b[0m\u001b[0msplit\u001b[0m\u001b[1;33m(\u001b[0m\u001b[1;34m\",\"\u001b[0m\u001b[1;33m)\u001b[0m\u001b[1;33m\u001b[0m\u001b[0m\n\u001b[0;32m     15\u001b[0m     \u001b[0mzipcode\u001b[0m\u001b[1;33m=\u001b[0m\u001b[1;34m\"NA\"\u001b[0m\u001b[1;33m\u001b[0m\u001b[0m\n",
      "\u001b[1;32mc:\\users\\zhuyl\\appdata\\local\\programs\\python\\python36\\lib\\site-packages\\geopy\\geocoders\\google.py\u001b[0m in \u001b[0;36mgeocode\u001b[1;34m(self, query, exactly_one, timeout, bounds, region, components, place_id, language, sensor)\u001b[0m\n\u001b[0;32m    268\u001b[0m         \u001b[0mlogger\u001b[0m\u001b[1;33m.\u001b[0m\u001b[0mdebug\u001b[0m\u001b[1;33m(\u001b[0m\u001b[1;34m\"%s.geocode: %s\"\u001b[0m\u001b[1;33m,\u001b[0m \u001b[0mself\u001b[0m\u001b[1;33m.\u001b[0m\u001b[0m__class__\u001b[0m\u001b[1;33m.\u001b[0m\u001b[0m__name__\u001b[0m\u001b[1;33m,\u001b[0m \u001b[0murl\u001b[0m\u001b[1;33m)\u001b[0m\u001b[1;33m\u001b[0m\u001b[0m\n\u001b[0;32m    269\u001b[0m         \u001b[0mcallback\u001b[0m \u001b[1;33m=\u001b[0m \u001b[0mpartial\u001b[0m\u001b[1;33m(\u001b[0m\u001b[0mself\u001b[0m\u001b[1;33m.\u001b[0m\u001b[0m_parse_json\u001b[0m\u001b[1;33m,\u001b[0m \u001b[0mexactly_one\u001b[0m\u001b[1;33m=\u001b[0m\u001b[0mexactly_one\u001b[0m\u001b[1;33m)\u001b[0m\u001b[1;33m\u001b[0m\u001b[0m\n\u001b[1;32m--> 270\u001b[1;33m         \u001b[1;32mreturn\u001b[0m \u001b[0mself\u001b[0m\u001b[1;33m.\u001b[0m\u001b[0m_call_geocoder\u001b[0m\u001b[1;33m(\u001b[0m\u001b[0murl\u001b[0m\u001b[1;33m,\u001b[0m \u001b[0mcallback\u001b[0m\u001b[1;33m,\u001b[0m \u001b[0mtimeout\u001b[0m\u001b[1;33m=\u001b[0m\u001b[0mtimeout\u001b[0m\u001b[1;33m)\u001b[0m\u001b[1;33m\u001b[0m\u001b[0m\n\u001b[0m\u001b[0;32m    271\u001b[0m \u001b[1;33m\u001b[0m\u001b[0m\n\u001b[0;32m    272\u001b[0m     def reverse(\n",
      "\u001b[1;32mc:\\users\\zhuyl\\appdata\\local\\programs\\python\\python36\\lib\\site-packages\\geopy\\geocoders\\base.py\u001b[0m in \u001b[0;36m_call_geocoder\u001b[1;34m(self, url, callback, timeout, is_json, headers)\u001b[0m\n\u001b[0;32m    384\u001b[0m                 \u001b[1;32mreturn\u001b[0m \u001b[0mfut\u001b[0m\u001b[1;33m(\u001b[0m\u001b[1;33m)\u001b[0m\u001b[1;33m\u001b[0m\u001b[0m\n\u001b[0;32m    385\u001b[0m             \u001b[1;32melse\u001b[0m\u001b[1;33m:\u001b[0m\u001b[1;33m\u001b[0m\u001b[0m\n\u001b[1;32m--> 386\u001b[1;33m                 \u001b[1;32mreturn\u001b[0m \u001b[0mcallback\u001b[0m\u001b[1;33m(\u001b[0m\u001b[0mresult\u001b[0m\u001b[1;33m)\u001b[0m\u001b[1;33m\u001b[0m\u001b[0m\n\u001b[0m\u001b[0;32m    387\u001b[0m         \u001b[1;32mexcept\u001b[0m \u001b[0mException\u001b[0m \u001b[1;32mas\u001b[0m \u001b[0merror\u001b[0m\u001b[1;33m:\u001b[0m\u001b[1;33m\u001b[0m\u001b[0m\n\u001b[0;32m    388\u001b[0m             \u001b[0mres\u001b[0m \u001b[1;33m=\u001b[0m \u001b[0mself\u001b[0m\u001b[1;33m.\u001b[0m\u001b[0m_adapter_error_handler\u001b[0m\u001b[1;33m(\u001b[0m\u001b[0merror\u001b[0m\u001b[1;33m)\u001b[0m\u001b[1;33m\u001b[0m\u001b[0m\n",
      "\u001b[1;32mc:\\users\\zhuyl\\appdata\\local\\programs\\python\\python36\\lib\\site-packages\\geopy\\geocoders\\google.py\u001b[0m in \u001b[0;36m_parse_json\u001b[1;34m(self, page, exactly_one)\u001b[0m\n\u001b[0;32m    395\u001b[0m         \u001b[0mplaces\u001b[0m \u001b[1;33m=\u001b[0m \u001b[0mpage\u001b[0m\u001b[1;33m.\u001b[0m\u001b[0mget\u001b[0m\u001b[1;33m(\u001b[0m\u001b[1;34m'results'\u001b[0m\u001b[1;33m,\u001b[0m \u001b[1;33m[\u001b[0m\u001b[1;33m]\u001b[0m\u001b[1;33m)\u001b[0m\u001b[1;33m\u001b[0m\u001b[0m\n\u001b[0;32m    396\u001b[0m         \u001b[1;32mif\u001b[0m \u001b[1;32mnot\u001b[0m \u001b[0mlen\u001b[0m\u001b[1;33m(\u001b[0m\u001b[0mplaces\u001b[0m\u001b[1;33m)\u001b[0m\u001b[1;33m:\u001b[0m\u001b[1;33m\u001b[0m\u001b[0m\n\u001b[1;32m--> 397\u001b[1;33m             \u001b[0mself\u001b[0m\u001b[1;33m.\u001b[0m\u001b[0m_check_status\u001b[0m\u001b[1;33m(\u001b[0m\u001b[0mpage\u001b[0m\u001b[1;33m.\u001b[0m\u001b[0mget\u001b[0m\u001b[1;33m(\u001b[0m\u001b[1;34m'status'\u001b[0m\u001b[1;33m)\u001b[0m\u001b[1;33m)\u001b[0m\u001b[1;33m\u001b[0m\u001b[0m\n\u001b[0m\u001b[0;32m    398\u001b[0m             \u001b[1;32mreturn\u001b[0m \u001b[1;32mNone\u001b[0m\u001b[1;33m\u001b[0m\u001b[0m\n\u001b[0;32m    399\u001b[0m \u001b[1;33m\u001b[0m\u001b[0m\n",
      "\u001b[1;32mc:\\users\\zhuyl\\appdata\\local\\programs\\python\\python36\\lib\\site-packages\\geopy\\geocoders\\google.py\u001b[0m in \u001b[0;36m_check_status\u001b[1;34m(self, status)\u001b[0m\n\u001b[0;32m    423\u001b[0m         \u001b[1;32melif\u001b[0m \u001b[0mstatus\u001b[0m \u001b[1;33m==\u001b[0m \u001b[1;34m'REQUEST_DENIED'\u001b[0m\u001b[1;33m:\u001b[0m\u001b[1;33m\u001b[0m\u001b[0m\n\u001b[0;32m    424\u001b[0m             raise GeocoderQueryError(\n\u001b[1;32m--> 425\u001b[1;33m                 \u001b[1;34m'Your request was denied.'\u001b[0m\u001b[1;33m\u001b[0m\u001b[0m\n\u001b[0m\u001b[0;32m    426\u001b[0m             )\n\u001b[0;32m    427\u001b[0m         \u001b[1;32melif\u001b[0m \u001b[0mstatus\u001b[0m \u001b[1;33m==\u001b[0m \u001b[1;34m'INVALID_REQUEST'\u001b[0m\u001b[1;33m:\u001b[0m\u001b[1;33m\u001b[0m\u001b[0m\n",
      "\u001b[1;31mGeocoderQueryError\u001b[0m: Your request was denied."
     ]
    }
   ],
   "source": [
    "from geopy.geocoders import GoogleV3\n",
    "import geopy.distance\n",
    "import googlemaps\n",
    "API=\n",
    "geolocator = GoogleV3(api_key=API)\n",
    "\n",
    "locations=df[\"Location\"]\n",
    "unique=list(set(list(locations)))\n",
    "unique.pop(0)\n",
    "lat_long_zip={}\n",
    "\n",
    "for l in unique:\n",
    "    g_l=geolocator.geocode(l+\", Lowell, Massachusetts\")\n",
    "    components=str(g_l).split(\",\")\n",
    "    zipcode=\"NA\"\n",
    "    for c in components:\n",
    "        if c[0:4]==\" MA \":\n",
    "            zipcode=c\n",
    "    print(zipcode)\n",
    "    lat_long_zip[l]=(g_l.latitude, g_l.longitude,zipcode)\n",
    "\n",
    "print(lat_long_zip)\n"
   ]
  },
  {
   "cell_type": "code",
   "execution_count": null,
   "metadata": {},
   "outputs": [],
   "source": [
    "filtered=list(locations)\n",
    "lats=[]\n",
    "longs=[]\n",
    "zips=[]\n",
    "for i in range(len(filtered)):\n",
    "    if filtered[i] in unique:\n",
    "        lats.append(lat_long_zip[filtered[i]][0])\n",
    "        longs.append(lat_long_zip[filtered[i]][1])\n",
    "        zips.append(lat_long_zip[filtered[i]][2])\n",
    "    else:\n",
    "        lats.append(\"NA\")\n",
    "        longs.append(\"NA\")\n",
    "        zips.append(\"NA\")\n"
   ]
  },
  {
   "cell_type": "code",
   "execution_count": 3,
   "metadata": {},
   "outputs": [
    {
     "ename": "NameError",
     "evalue": "name 'zips' is not defined",
     "output_type": "error",
     "traceback": [
      "\u001b[1;31m---------------------------------------------------------------------------\u001b[0m",
      "\u001b[1;31mNameError\u001b[0m                                 Traceback (most recent call last)",
      "\u001b[1;32m<ipython-input-3-fba662a057df>\u001b[0m in \u001b[0;36m<module>\u001b[1;34m\u001b[0m\n\u001b[0;32m      2\u001b[0m     \u001b[1;32mfor\u001b[0m \u001b[0ml\u001b[0m \u001b[1;32min\u001b[0m \u001b[0mli\u001b[0m\u001b[1;33m:\u001b[0m\u001b[1;33m\u001b[0m\u001b[0m\n\u001b[0;32m      3\u001b[0m         \u001b[0mprint\u001b[0m\u001b[1;33m(\u001b[0m\u001b[0ml\u001b[0m\u001b[1;33m)\u001b[0m\u001b[1;33m\u001b[0m\u001b[0m\n\u001b[1;32m----> 4\u001b[1;33m \u001b[0mprint_col\u001b[0m\u001b[1;33m(\u001b[0m\u001b[0mzips\u001b[0m\u001b[1;33m)\u001b[0m\u001b[1;33m\u001b[0m\u001b[0m\n\u001b[0m",
      "\u001b[1;31mNameError\u001b[0m: name 'zips' is not defined"
     ]
    }
   ],
   "source": [
    "def print_col(li):\n",
    "    for l in li:\n",
    "        print(l)\n",
    "print_col(zips)"
   ]
  },
  {
   "cell_type": "code",
   "execution_count": 52,
   "metadata": {},
   "outputs": [
    {
     "name": "stdout",
     "output_type": "stream",
     "text": [
      "        Race                                Offense Description\n",
      "0       HISP                   INSPECTION/STICKER, NO * c90 §20\n",
      "1      BLACK                   INSPECTION/STICKER, NO * c90 §20\n",
      "2      ASIAN                       STOP/YIELD, FAIL TO * c89 §9\n",
      "3      WHITE                       STOP/YIELD, FAIL TO * c89 §9\n",
      "4       HISP         WINDOW OBSTRUCTED/NONTRANSPARENT * c90 §9D\n",
      "...      ...                                                ...\n",
      "1452   WHITE  ELECTRONIC DEVICE, USE WHILE OPERATING MV, 1ST...\n",
      "1453     UNK     OPERATION OF MOTOR VEHICLE, IMPROPER * c90 §16\n",
      "1454    HISP                       STOP/YIELD, FAIL TO * c89 §9\n",
      "1455  UNKNWN                      LIGHTS VIOLATION, MV * c90 §7\n",
      "1456    HISP  ELECTRONIC DEVICE, USE WHILE OPERATING MV, 1ST...\n",
      "\n",
      "[1457 rows x 2 columns]\n"
     ]
    },
    {
     "name": "stderr",
     "output_type": "stream",
     "text": [
      "c:\\users\\zhuyl\\appdata\\local\\programs\\python\\python36\\lib\\site-packages\\ipykernel_launcher.py:4: SettingWithCopyWarning: \n",
      "A value is trying to be set on a copy of a slice from a DataFrame\n",
      "\n",
      "See the caveats in the documentation: https://pandas.pydata.org/pandas-docs/stable/user_guide/indexing.html#returning-a-view-versus-a-copy\n",
      "  after removing the cwd from sys.path.\n"
     ]
    }
   ],
   "source": [
    "race_data=pd.read_csv(\"./DOTLowell_April2021.xlsx - Sheet1.csv\")\n",
    "unique_offences=pd.read_csv(\"./Offenses - Sheet1.csv\")\n",
    "for i in range(63):\n",
    "    unique_offences[\"Offense Description\"][i]=unique_offences[\"Offense Description\"][i][0:-2]\n",
    "offenses=unique_offences[\"Offense Description\"].tolist()\n",
    "severity=unique_offences[\"Severity\"]\n",
    "offense_dict={offenses[i]:severity[i] for i in range(len(offenses))}\n",
    "race_offense=race_data[[\"Race\",\"Offense Description\"]]"
   ]
  },
  {
   "cell_type": "code",
   "execution_count": 57,
   "metadata": {},
   "outputs": [
    {
     "name": "stdout",
     "output_type": "stream",
     "text": [
      "{0: {'white': 0.010903906288916564, 'asian': 0.004837567145446939, 'hispanic': 0.02034431506849315, 'black': 0.023917202818458137}, 1: {'white': 0.006569115815691158, 'asian': 0.002510110165946172, 'hispanic': 0.013916068710589258, 'black': 0.015473887814313346}, 2: {'white': 0.004296388542963886, 'asian': 0.002324176079579789, 'hispanic': 0.006305718634485757, 'black': 0.007046145344017684}, 3: {'white': 3.11332503113325e-05, 'asian': 0.0, 'hispanic': 0.00010871928680147858, 'black': 0.0}}\n",
      "{0: [('black', 0.023917202818458137), ('hispanic', 0.02034431506849315), ('white', 0.010903906288916564), ('asian', 0.004837567145446939)], 1: [('black', 0.015473887814313346), ('hispanic', 0.013916068710589258), ('white', 0.006569115815691158), ('asian', 0.002510110165946172)], 2: [('black', 0.007046145344017684), ('hispanic', 0.006305718634485757), ('white', 0.004296388542963886), ('asian', 0.002324176079579789)], 3: [('hispanic', 0.00010871928680147858), ('white', 3.11332503113325e-05), ('asian', 0.0), ('black', 0.0)]}\n"
     ]
    }
   ],
   "source": [
    "def normalize(li):\n",
    "    std=np.std(li)\n",
    "    mean=np.mean(li)\n",
    "    return (li-mean)/std\n",
    "\n",
    "def ordering(d):\n",
    "    #sl=list(map(lambda x: x[0],list(sorted(d.items(), key=lambda x: x[1], reverse=True))))\n",
    "    sl=list(sorted(d.items(), key=lambda x: x[1], reverse=True))\n",
    "    return sl\n",
    "    \n",
    "#the number of crimes recorded for each race in Lowell can b modelled by P_i*C_i*alpha_i=D_i where \n",
    "#P_i is the total population, C_i is the crime commiting rate, alpha_i is the police bias, D_i is the data for the ith race. \n",
    "#larger the alpha the higher record crime:population ratio.\n",
    "#assume all Crime commit rate to be the same then C_i can be all same number (pick 1 for example).\n",
    "\n",
    "total=1458\n",
    "label=[\"white\",\"asian\",\"hispanic\",\"black\"]\n",
    "alpha={i:{} for i in range(4)}\n",
    "data={i:{lab:0 for lab in label} for i in range(4)}\n",
    "population={\"white\": 64240, \"asian\":21513,\"hispanic\":18396,\"black\":7238}\n",
    "data[0]={\"white\": 0.48043*total, \"asian\":0.071379*total,\"hispanic\":0.25669*total,\"black\":(0.006863+0.11187)*total}\n",
    "\n",
    "for i in [1,2,3]:\n",
    "    offense_list=[]\n",
    "    for off in offense_dict.keys():\n",
    "        if offense_dict[off]==i:\n",
    "            offense_list.append(off)\n",
    "    for index, row in race_offense.iterrows():\n",
    "        if row[\"Offense Description\"] in offense_list:\n",
    "            if row[\"Race\"]==\"WHITE\":\n",
    "                data[i][\"white\"]=data[i][\"white\"]+1\n",
    "            if row[\"Race\"]==\"BLACK\":\n",
    "                data[i][\"black\"]=data[i][\"black\"]+1\n",
    "            if row[\"Race\"]==\"ASIAN\":\n",
    "                data[i][\"asian\"]=data[i][\"asian\"]+1\n",
    "            if row[\"Race\"]==\"HISP\":\n",
    "                data[i][\"hispanic\"]=data[i][\"hispanic\"]+1\n",
    "\n",
    "#total\n",
    "for i in range(4):\n",
    "    for k in label:\n",
    "        alpha[i][k]=data[i][k]/population[k]\n",
    "\n",
    "ordering_dict={i:ordering(alpha[i]) for i in range(4)}\n",
    "print(alpha)\n",
    "print(ordering_dict)\n"
   ]
  },
  {
   "cell_type": "markdown",
   "metadata": {},
   "source": [
    "\n"
   ]
  },
  {
   "cell_type": "code",
   "execution_count": null,
   "metadata": {},
   "outputs": [],
   "source": []
  }
 ],
 "metadata": {
  "kernelspec": {
   "display_name": "Python 3",
   "language": "python",
   "name": "python3"
  },
  "language_info": {
   "codemirror_mode": {
    "name": "ipython",
    "version": 3
   },
   "file_extension": ".py",
   "mimetype": "text/x-python",
   "name": "python",
   "nbconvert_exporter": "python",
   "pygments_lexer": "ipython3",
   "version": "3.6.6"
  }
 },
 "nbformat": 4,
 "nbformat_minor": 4
}
